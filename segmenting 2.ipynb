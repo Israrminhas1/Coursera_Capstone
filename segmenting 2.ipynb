{
    "nbformat_minor": 1, 
    "cells": [
        {
            "source": "## lets repeat what we did before", 
            "cell_type": "markdown", 
            "metadata": {
                "collapsed": true
            }
        }, 
        {
            "execution_count": 2, 
            "cell_type": "code", 
            "metadata": {}, 
            "outputs": [
                {
                    "output_type": "stream", 
                    "name": "stdout", 
                    "text": "Number of Boroughs with Not Assigned values: 77\nNumber of Neighbourhoods with Not Assigned values: 78\n\nThe Neighbourhoods with Not Assigned value:\n  PostCode       Borough Neighbourhood\n8      M7A  Queen's Park  Not assigned\n\nNow, the number of Boroughs with Not Assigned values: 0\nNow, the number of Neighbourhoods with Not Assigned values is: 0\nTotal number of Boroughs: 103\n"
                }, 
                {
                    "execution_count": 2, 
                    "metadata": {}, 
                    "data": {
                        "text/html": "<div>\n<style scoped>\n    .dataframe tbody tr th:only-of-type {\n        vertical-align: middle;\n    }\n\n    .dataframe tbody tr th {\n        vertical-align: top;\n    }\n\n    .dataframe thead th {\n        text-align: right;\n    }\n</style>\n<table border=\"1\" class=\"dataframe\">\n  <thead>\n    <tr style=\"text-align: right;\">\n      <th></th>\n      <th>PostCode</th>\n      <th>Borough</th>\n      <th>Neighbourhood</th>\n    </tr>\n  </thead>\n  <tbody>\n    <tr>\n      <th>0</th>\n      <td>M1B</td>\n      <td>Scarborough</td>\n      <td>Rouge, Malvern</td>\n    </tr>\n    <tr>\n      <th>1</th>\n      <td>M1C</td>\n      <td>Scarborough</td>\n      <td>Highland Creek, Rouge Hill, Port Union</td>\n    </tr>\n    <tr>\n      <th>2</th>\n      <td>M1E</td>\n      <td>Scarborough</td>\n      <td>Guildwood, Morningside, West Hill</td>\n    </tr>\n    <tr>\n      <th>3</th>\n      <td>M1G</td>\n      <td>Scarborough</td>\n      <td>Woburn</td>\n    </tr>\n    <tr>\n      <th>4</th>\n      <td>M1H</td>\n      <td>Scarborough</td>\n      <td>Cedarbrae</td>\n    </tr>\n  </tbody>\n</table>\n</div>", 
                        "text/plain": "  PostCode      Borough                           Neighbourhood\n0      M1B  Scarborough                          Rouge, Malvern\n1      M1C  Scarborough  Highland Creek, Rouge Hill, Port Union\n2      M1E  Scarborough       Guildwood, Morningside, West Hill\n3      M1G  Scarborough                                  Woburn\n4      M1H  Scarborough                               Cedarbrae"
                    }, 
                    "output_type": "execute_result"
                }
            ], 
            "source": "import pandas as pd\nimport numpy as np\nimport requests\n\nfrom bs4 import BeautifulSoup\nsource=requests.get('https://en.wikipedia.org/wiki/List_of_postal_codes_of_Canada:_M').text\nsoup = BeautifulSoup(source,'lxml')\nTable = soup.find('table')\nTabel_split = Table.tbody.text.split('\\n')\n\n\nlst1 =[] ;lst2 =[];lst3 =[] \ntemp_val = 0\nrows = 1\nwhile (len(Tabel_split)>temp_val):\n    lst1.append(Tabel_split[5*rows+1])\n    lst2.append(Tabel_split[5*rows+2])\n    lst3.append(Tabel_split[5*rows+3])\n    temp_val = 5*rows+6\n    rows += 1\n\ndf=pd.DataFrame(list(zip(lst1,lst2, lst3)), columns =['PostCode', 'Borough', 'Neighbourhood']) \ndf.head()\n\n\nprint('Number of Boroughs with Not Assigned values:',df[df['Borough'].str.contains('Not assigned')].count()[0])\nprint('Number of Neighbourhoods with Not Assigned values:',df[df['Neighbourhood'].str.contains('Not assigned')].count()[0])\ndf=df[df['Borough']!='Not assigned']\nprint()\nprint('The Neighbourhoods with Not Assigned value:')\nprint(df[df['Neighbourhood'].str.contains('Not assigned')])\nprint()\ndf.replace(to_replace='Not assigned',value=\"Queen's Park\", inplace=True)\nprint('Now, the number of Boroughs with Not Assigned values:',df[df['Borough'].str.contains('Not assigned')].count()[0])\nprint('Now, the number of Neighbourhoods with Not Assigned values is:',df[df['Neighbourhood'].str.contains('Not assigned')].count()[0])\n\n\ndf_final = df.groupby(['PostCode','Borough'])['Neighbourhood'].apply(', '.join).reset_index()\nprint('Total number of Boroughs: {}'.format(len(df_final['Borough'])))\ndf_final.head()"
        }, 
        {
            "execution_count": null, 
            "cell_type": "code", 
            "metadata": {}, 
            "outputs": [
                {
                    "output_type": "stream", 
                    "name": "stdout", 
                    "text": "Looking for coordinats for each postal code ...\nProgress: 46 out of 102\r"
                }
            ], 
            "source": "\nfrom geopy.geocoders import Nominatim # convert an address into latitude and longitude values\n\nlatitude=[]\nlongitude=[]\nprint('Looking for coordinats for each postal code ...')\nfor indx,postcode in enumerate(list(df_final['PostCode'])):\n    address = '{} Toronto, Ontario, Canada'.format(postcode)\n    print(\"Progress: {} out of {}\".format(indx,df_final['PostCode'].shape[0]-1), end=\"\\r\")\n    \n    try:\n        geolocator = Nominatim(user_agent=\"tn_explorer\")\n        location = geolocator.geocode(address)\n        latitude.append(location.latitude)\n        longitude.append(location.longitude)\n        \n    except:\n        latitude.append(None)\n        longitude.append(None)\n        \nprint('\\nDone!')"
        }, 
        {
            "execution_count": null, 
            "cell_type": "code", 
            "metadata": {}, 
            "outputs": [], 
            "source": "df_final['Latitude'] = latitude\ndf_final['Longitude'] = longitude\nprint('Number of missing coordinate values is %d which is bascially %.2f%% of all the values.' %(df_final['Latitude'].isna().sum(),(df_final['Latitude'].isna().sum()/df_final['Latitude'].shape[0]*100)))"
        }, 
        {
            "execution_count": null, 
            "cell_type": "code", 
            "metadata": {}, 
            "outputs": [], 
            "source": ""
        }
    ], 
    "metadata": {
        "kernelspec": {
            "display_name": "Python 3.6", 
            "name": "python3", 
            "language": "python"
        }, 
        "language_info": {
            "mimetype": "text/x-python", 
            "nbconvert_exporter": "python", 
            "version": "3.6.8", 
            "name": "python", 
            "file_extension": ".py", 
            "pygments_lexer": "ipython3", 
            "codemirror_mode": {
                "version": 3, 
                "name": "ipython"
            }
        }
    }, 
    "nbformat": 4
}